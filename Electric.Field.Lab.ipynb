{
 "cells": [
  {
   "cell_type": "code",
   "execution_count": null,
   "metadata": {
    "collapsed": true
   },
   "outputs": [],
   "source": [
    "#Physics 218, Section 1\n",
    "#Spring 2016\n",
    "#Electric Fields Lab\n",
    "#Chris Totzauer\n",
    "#Original code by Jaylene Naylor, coding assistance from Eric Dennison"
   ]
  },
  {
   "cell_type": "code",
   "execution_count": 2,
   "metadata": {
    "collapsed": false
   },
   "outputs": [
    {
     "name": "stdout",
     "output_type": "stream",
     "text": [
      "[  6.71004903  11.38674986  12.8100936   13.21676324  14.03010251\n",
      "  13.42009805  13.42009805  17.89346407  23.58683901  20.74015154\n",
      "  35.38025851]\n"
     ]
    },
    {
     "name": "stderr",
     "output_type": "stream",
     "text": [
      "C:\\Users\\Chris\\Anaconda\\lib\\site-packages\\matplotlib\\axes\\_axes.py:2651: MatplotlibDeprecationWarning: Use of None object as fmt keyword argument to suppress plotting of data values is deprecated since 1.4; use the string \"none\" instead.\n",
      "  warnings.warn(msg, mplDeprecation, stacklevel=1)\n"
     ]
    }
   ],
   "source": [
    "from __future__ import division\n",
    "import numpy as np\n",
    "import matplotlib.pyplot as plt\n",
    "import math\n",
    "\n",
    "ln_r = np.array([-2.696,-2.773,-2.856,-2.947,-3.047,-3.158,-3.283,-3.427,-3.594,-3.794,-4.046])\n",
    "ln_Er = np.array([3.497,4.025,4.143,4.174,4.234,4.190,4.190,4.477,4.754,4.625,5.159])\n",
    "\n",
    "def rule2(c, m, A, dA):\n",
    "\n",
    "    dQ = c*m*A**(m-1)*dA\n",
    "\n",
    "    return dQ\n",
    "\n",
    "\n",
    "def rule3(dA,dB):\n",
    "    \n",
    "    #Need to use NumPy's sqrt so it knows what to do with\n",
    "    #arrays!\n",
    "    dQ = np.sqrt((dA)**2+(dB)**2)\n",
    "\n",
    "    return dQ\n",
    "\n",
    "\n",
    "def rule4(m,n,A,dA,B,dB,Q):\n",
    "\n",
    "    dQ = Q*np.sqrt((m*dA/A)**2+(n*dB/B)**2)\n",
    "\n",
    "    return dQ\n",
    "\n",
    "\n",
    "delta_V = 0.05\n",
    "delta_Vavg = rule3(0.05,0.05)\n",
    "delta_DeltaV = .09717\n",
    "delta_r = .0005\n",
    "delta_Delta_r = 0.00005\n",
    "delta_r_mid = .50 #FOR PLOT\n",
    "Er = np.array([33,56,63,65,69,66,66,88,116,102,174])\n",
    "delta_Er = rule4(1,1,.477881812,.09717,.5,.00005,Er)\n",
    "print delta_Er\n",
    "delta_ln_Er = np.array([.185,.185,.185,.185,.185,.185,.185,.185,.185,.185,.185])\n",
    "\n",
    "x1 = ln_r\n",
    "y1 = ln_Er\n",
    "dy1 = delta_ln_Er\n",
    "\n",
    "b,m = np.polynomial.polynomial.polyfit(x1,y1,1,w=dy1)\n",
    "\n",
    "fit = b+m*x1\n",
    "\n",
    "def Delta(x, dy):\n",
    "    D = (sum(1/dy**2))*(sum(x**2/dy**2))-(sum(x/dy**2))**2\n",
    "    return D\n",
    "    \n",
    "D = Delta(x1, dy1)\n",
    "dm = math.sqrt(1/D*sum(1/dy1**2)) #error in slope\n",
    "db = math.sqrt(1/D*sum(x1**2/dy1**2)) #error in intercept\n",
    "\n",
    "def LLSFD2(x,y,dy):\n",
    "    N = sum(((y-b-m*x)/dy)**2)\n",
    "    return N\n",
    "                      \n",
    "N = LLSFD2(x1,y1,dy1)\n",
    "\n",
    "plt.figure(figsize=(15,10))\n",
    "\n",
    "plt.plot(x1, fit, color='green', linestyle='--')\n",
    "plt.scatter(x1, y1, color='blue', marker='o')\n",
    "\n",
    "\n",
    "#create labels  YOU NEED TO CHANGE THESE!!!\n",
    "plt.xlabel(\"ln(E/Eo)\")\n",
    "plt.ylabel(\"ln(r_mid/r_o)\")\n",
    "plt.title(\"ln(Er/Eo) vs ln(r_mid/r_o)\")\n",
    "\n",
    "plt.errorbar(x1, y1, yerr=dy1, xerr=None, fmt=None) #don't need to plot x error bars\n",
    "\n",
    "plt.annotate('Slope = {value:.{digits}E}'.format(value=m, digits=2),\n",
    "             (0.05, 0.9), xycoords='axes fraction')\n",
    "\n",
    "plt.annotate('Error in Slope  = {value:.{digits}E}'.format(value=dm, digits=2),\n",
    "             (0.05, 0.85), xycoords='axes fraction')\n",
    "\n",
    "plt.annotate('Goodness of fit = {value:.{digits}E}'.format(value=N, digits=2),\n",
    "             (0.05, 0.80), xycoords='axes fraction')\n",
    "plt.show()"
   ]
  },
  {
   "cell_type": "code",
   "execution_count": null,
   "metadata": {
    "collapsed": true
   },
   "outputs": [],
   "source": []
  },
  {
   "cell_type": "code",
   "execution_count": null,
   "metadata": {
    "collapsed": false
   },
   "outputs": [],
   "source": []
  },
  {
   "cell_type": "code",
   "execution_count": 1,
   "metadata": {
    "collapsed": false
   },
   "outputs": [
    {
     "ename": "NameError",
     "evalue": "name 'ln_r' is not defined",
     "output_type": "error",
     "traceback": [
      "\u001b[1;31m---------------------------------------------------------------------------\u001b[0m",
      "\u001b[1;31mNameError\u001b[0m                                 Traceback (most recent call last)",
      "\u001b[1;32m<ipython-input-1-c341eaf52f5f>\u001b[0m in \u001b[0;36m<module>\u001b[1;34m()\u001b[0m\n\u001b[1;32m----> 1\u001b[1;33m \u001b[0mx1\u001b[0m \u001b[1;33m=\u001b[0m \u001b[0mln_r\u001b[0m\u001b[1;33m\u001b[0m\u001b[0m\n\u001b[0m\u001b[0;32m      2\u001b[0m \u001b[0my1\u001b[0m \u001b[1;33m=\u001b[0m \u001b[0mln_Er\u001b[0m\u001b[1;33m\u001b[0m\u001b[0m\n\u001b[0;32m      3\u001b[0m \u001b[0mdy1\u001b[0m \u001b[1;33m=\u001b[0m \u001b[0mdelta_ln_Er\u001b[0m\u001b[1;33m\u001b[0m\u001b[0m\n\u001b[0;32m      4\u001b[0m \u001b[1;33m\u001b[0m\u001b[0m\n\u001b[0;32m      5\u001b[0m \u001b[0mb\u001b[0m\u001b[1;33m,\u001b[0m\u001b[0mm\u001b[0m \u001b[1;33m=\u001b[0m \u001b[0mnp\u001b[0m\u001b[1;33m.\u001b[0m\u001b[0mpolynomial\u001b[0m\u001b[1;33m.\u001b[0m\u001b[0mpolynomial\u001b[0m\u001b[1;33m.\u001b[0m\u001b[0mpolyfit\u001b[0m\u001b[1;33m(\u001b[0m\u001b[0mx1\u001b[0m\u001b[1;33m,\u001b[0m\u001b[0my1\u001b[0m\u001b[1;33m,\u001b[0m\u001b[1;36m1\u001b[0m\u001b[1;33m,\u001b[0m\u001b[0mw\u001b[0m\u001b[1;33m=\u001b[0m\u001b[0mdy1\u001b[0m\u001b[1;33m)\u001b[0m\u001b[1;33m\u001b[0m\u001b[0m\n",
      "\u001b[1;31mNameError\u001b[0m: name 'ln_r' is not defined"
     ]
    }
   ],
   "source": []
  },
  {
   "cell_type": "code",
   "execution_count": null,
   "metadata": {
    "collapsed": true
   },
   "outputs": [],
   "source": []
  },
  {
   "cell_type": "code",
   "execution_count": null,
   "metadata": {
    "collapsed": true
   },
   "outputs": [],
   "source": []
  }
 ],
 "metadata": {
  "kernelspec": {
   "display_name": "Python 2",
   "language": "python",
   "name": "python2"
  },
  "language_info": {
   "codemirror_mode": {
    "name": "ipython",
    "version": 2
   },
   "file_extension": ".py",
   "mimetype": "text/x-python",
   "name": "python",
   "nbconvert_exporter": "python",
   "pygments_lexer": "ipython2",
   "version": "2.7.10"
  }
 },
 "nbformat": 4,
 "nbformat_minor": 0
}
